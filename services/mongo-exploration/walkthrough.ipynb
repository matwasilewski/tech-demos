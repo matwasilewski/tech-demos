{
 "cells": [
  {
   "cell_type": "markdown",
   "id": "5be57af5",
   "metadata": {
    "vscode": {
     "languageId": "plaintext"
    }
   },
   "source": [
    "## Tutorial – Beanie Inheritance Deep-Dive\n",
    "\n",
    "### 1. Front-matter (YAML example)\n",
    "```yaml\n",
    "title: \"When Document Inheritance Meets MongoDB: Debugging Beanie’s Polymorphic Fetches\"\n",
    "date: 2024-07-31\n",
    "tags: [\"MongoDB\", \"Beanie\", \"Python\", \"ODM\", \"Polymorphism\"]\n",
    "description: \"Lessons learned when a single base document spawns subclasses and your find() starts returning surprises.\"\n",
    "readingTime: 8  # minutes\n",
    "```"
   ]
  },
  {
   "cell_type": "markdown",
   "id": "d8a7e580",
   "metadata": {
    "vscode": {
     "languageId": "plaintext"
    }
   },
   "source": [
    "TODO: Explore `union` feature, and other inheritance features. \n",
    "\n",
    "### 2. Executive TL;DR\n",
    "- Beanie (https://beanie-odm.dev/) is an asynchronous Python object-document mapper (ODM) for MongoDB. Data models are based on Pydantic.\n",
    "\n",
    "- Beanie stores each subclass in its own collection by default → polymorphic queries need extra care.\n",
    "- The base-class `.find_all()` returns only documents from the *base* collection unless you opt into single-collection inheritance.\n",
    "- On the other hand, `find()` returns all documents, but does so with incomplete features.\n",
    "- Two escape hatches: a) `inheritance=\"single\"` in the Settings class, b) manual union queries across collections.\n",
    "- Fully-working demo lives in `/services/mongo-exploration`.\n"
   ]
  },
  {
   "cell_type": "markdown",
   "id": "bbcd001b",
   "metadata": {
    "vscode": {
     "languageId": "plaintext"
    }
   },
   "source": [
    "dd"
   ]
  },
  {
   "cell_type": "code",
   "execution_count": null,
   "id": "ad66a941",
   "metadata": {},
   "outputs": [
    {
     "ename": "ModuleNotFoundError",
     "evalue": "No module named 'motor'",
     "output_type": "error",
     "traceback": [
      "\u001b[31m---------------------------------------------------------------------------\u001b[39m",
      "\u001b[31mModuleNotFoundError\u001b[39m                       Traceback (most recent call last)",
      "\u001b[36mCell\u001b[39m\u001b[36m \u001b[39m\u001b[32mIn[1]\u001b[39m\u001b[32m, line 10\u001b[39m\n\u001b[32m      7\u001b[39m     sys.path.insert(\u001b[32m0\u001b[39m, \u001b[38;5;28mstr\u001b[39m(srv_path))\n\u001b[32m      9\u001b[39m \u001b[38;5;66;03m# 2-5) Use the helper class to connect, seed, and display\u001b[39;00m\n\u001b[32m---> \u001b[39m\u001b[32m10\u001b[39m \u001b[38;5;28;01mfrom\u001b[39;00m\u001b[38;5;250m \u001b[39m\u001b[34;01mmongo_connection\u001b[39;00m\u001b[38;5;250m \u001b[39m\u001b[38;5;28;01mimport\u001b[39;00m MongoDBManager\n\u001b[32m     12\u001b[39m manager = MongoDBManager()        \u001b[38;5;66;03m# use default host, port, creds, DB name\u001b[39;00m\n\u001b[32m     14\u001b[39m \u001b[38;5;28;01mawait\u001b[39;00m manager.connect()           \u001b[38;5;66;03m# establish connection\u001b[39;00m\n",
      "\u001b[36mFile \u001b[39m\u001b[32m~/Code/tech-demos/services/mongo-exploration/mongo_connection.py:5\u001b[39m\n\u001b[32m      2\u001b[39m \u001b[38;5;28;01mfrom\u001b[39;00m\u001b[38;5;250m \u001b[39m\u001b[34;01mtyping\u001b[39;00m\u001b[38;5;250m \u001b[39m\u001b[38;5;28;01mimport\u001b[39;00m List, Optional\n\u001b[32m      4\u001b[39m \u001b[38;5;28;01mfrom\u001b[39;00m\u001b[38;5;250m \u001b[39m\u001b[34;01mbeanie\u001b[39;00m\u001b[38;5;250m \u001b[39m\u001b[38;5;28;01mimport\u001b[39;00m init_beanie\n\u001b[32m----> \u001b[39m\u001b[32m5\u001b[39m \u001b[38;5;28;01mfrom\u001b[39;00m\u001b[38;5;250m \u001b[39m\u001b[34;01mmotor\u001b[39;00m\u001b[34;01m.\u001b[39;00m\u001b[34;01mmotor_asyncio\u001b[39;00m\u001b[38;5;250m \u001b[39m\u001b[38;5;28;01mimport\u001b[39;00m AsyncIOMotorClient\n\u001b[32m      7\u001b[39m \u001b[38;5;28;01mfrom\u001b[39;00m\u001b[38;5;250m \u001b[39m\u001b[34;01mdocument\u001b[39;00m\u001b[38;5;250m \u001b[39m\u001b[38;5;28;01mimport\u001b[39;00m Document, SystematicReview, ClinicalTrial, StudyOutcome\n\u001b[32m     10\u001b[39m \u001b[38;5;28;01mclass\u001b[39;00m\u001b[38;5;250m \u001b[39m\u001b[34;01mMongoDBManager\u001b[39;00m:\n",
      "\u001b[31mModuleNotFoundError\u001b[39m: No module named 'motor'"
     ]
    }
   ],
   "source": [
    "# Q: How does Beanie handle inheritance? If we have a single document with children, will it be one or two collections?\n",
    "\n",
    "import sys, pathlib\n",
    "repo_root = pathlib.Path().resolve()          # path to project root\n",
    "srv_path  = repo_root / \"services\" / \"mongo-exploration\"\n",
    "if str(srv_path) not in sys.path:\n",
    "    sys.path.insert(0, str(srv_path))\n",
    "\n",
    "# 2-5) Use the helper class to connect, seed, and display\n",
    "from mongo_connection import MongoDBManager\n",
    "\n",
    "manager = MongoDBManager()        # use default host, port, creds, DB name\n",
    "\n",
    "await manager.connect()           # establish connection\n",
    "await manager.clean_database()    # start with a clean slate (optional)\n",
    "await manager.create_sample_data()  # insert the five sample docs\n",
    "await manager.show_all_documents()  # quick visual confirmation\n",
    "await manager.disconnect()        # tidy up"
   ]
  },
  {
   "cell_type": "markdown",
   "id": "33b041d8",
   "metadata": {
    "vscode": {
     "languageId": "plaintext"
    }
   },
   "source": [
    "\n",
    "### 3. Problem Statement\n",
    "> \"Why does my generic `Document.find()` return all matching records (including their subclasses), but the subclass models have default fields?\n",
    "<!-- > “Why does my generic `Document.find_all()` return **1** record when I clearly inserted **5** (including 2 `SystematicReview`s & 2 `ClinicalTrial`s)?” -->\n",
    "\n",
    "### 4. Minimal Repro Setup\n",
    "1. Docker Compose snippet spinning up Mongo 6.x on port 27019.\n",
    "2. `pyproject.toml` listing Beanie, Motor & Pydantic.\n",
    "3. Sample code from this repo.\n",
    "\n"
   ]
  },
  {
   "cell_type": "code",
   "execution_count": null,
   "id": "bfd613c4",
   "metadata": {},
   "outputs": [],
   "source": []
  },
  {
   "cell_type": "markdown",
   "id": "937e859e",
   "metadata": {
    "vscode": {
     "languageId": "plaintext"
    }
   },
   "source": [
    "### 5. Modelling the Hierarchy in Beanie\n",
    "TODO: Add info here about the `Settings` class that Beanie uses quite extensively.\n",
    "\n",
    "```python\n",
    "# document.py\n",
    "class Document(BeanieDocument):\n",
    "    ...\n",
    "\n",
    "class SystematicReview(Document):\n",
    "    ...\n",
    "\n",
    "class ClinicalTrial(Document):\n",
    "    ...\n",
    "```\n",
    "Default collection names become `document`, `systematicreview`, `clinicaltrial`.\n"
   ]
  },
  {
   "cell_type": "code",
   "execution_count": null,
   "id": "58556625",
   "metadata": {},
   "outputs": [],
   "source": []
  },
  {
   "cell_type": "markdown",
   "id": "13009215",
   "metadata": {
    "vscode": {
     "languageId": "plaintext"
    }
   },
   "source": [
    "\n",
    "### 6. Seeding the Database\n",
    "Excerpt from `MongoDBManager.create_sample_data()`:\n",
    "```python\n",
    "for doc in [generic_doc, sr_vaccines, sr_supplements, ct_drug_a, ct_surgery_b]:\n",
    "    await doc.insert()\n",
    "```\n",
    "Five inserts confirmed in the terminal.\n"
   ]
  },
  {
   "cell_type": "code",
   "execution_count": null,
   "id": "5155c4bf",
   "metadata": {},
   "outputs": [],
   "source": []
  },
  {
   "cell_type": "markdown",
   "id": "6111c865",
   "metadata": {
    "vscode": {
     "languageId": "plaintext"
    }
   },
   "source": [
    "\n",
    "### 7. The Retrieval Puzzle\n",
    "1. Subclass works:\n",
    "```python\n",
    "trials = await ClinicalTrial.find_all().to_list()\n",
    "print(len(trials))  # 2\n",
    "```\n",
    "2. Base class disappoints:\n",
    "```python\n",
    "docs = await Document.find_all().to_list()\n",
    "print(len(docs))  # 1\n",
    "```\n",
    "\n"
   ]
  },
  {
   "cell_type": "code",
   "execution_count": null,
   "id": "45dd21a7",
   "metadata": {},
   "outputs": [],
   "source": []
  },
  {
   "cell_type": "markdown",
   "id": "5eef530a",
   "metadata": {
    "vscode": {
     "languageId": "plaintext"
    }
   },
   "source": [
    "### 8. Under the Hood – What Beanie Does with Inheritance\n",
    "- Each concrete subclass → its own Mongo collection.\n",
    "- The base class is unaware of sibling collections.\n",
    "- No built-in “union all collections” unless you enable single-collection inheritance.\n",
    "- Single-collection mode adds a discriminator field `_cls` automatically.\n"
   ]
  },
  {
   "cell_type": "code",
   "execution_count": null,
   "id": "52630ca9",
   "metadata": {},
   "outputs": [],
   "source": []
  },
  {
   "cell_type": "markdown",
   "id": "970ab2b1",
   "metadata": {
    "vscode": {
     "languageId": "plaintext"
    }
   },
   "source": [
    "\n",
    "### 9. Fix #1 – Single Collection with Discriminator\n",
    "```python\n",
    "class Root(Document):\n",
    "    class Settings:\n",
    "        name = \"documents\"      # single collection name\n",
    "        inheritance = \"single\"  # enable discriminator\n",
    "```\n",
    "`Root.find_all()` now returns **5** documents. Caveat: a mixed collection may need compound indexes for performance.\n"
   ]
  },
  {
   "cell_type": "code",
   "execution_count": null,
   "id": "10c0a9b1",
   "metadata": {},
   "outputs": [],
   "source": []
  },
  {
   "cell_type": "markdown",
   "id": "7db1cbae",
   "metadata": {
    "vscode": {
     "languageId": "plaintext"
    }
   },
   "source": [
    "\n",
    "### 10. Fix #2 – Manual “Union” Query\n",
    "```python\n",
    "docs = (\n",
    "    await Document.find_all().to_list() +\n",
    "    await SystematicReview.find_all().to_list() +\n",
    "    await ClinicalTrial.find_all().to_list()\n",
    ")\n",
    "```\n",
    "Useful when you want separate collections for TTL or sharding.beani"
   ]
  },
  {
   "cell_type": "code",
   "execution_count": null,
   "id": "b91a05e6",
   "metadata": {},
   "outputs": [],
   "source": []
  },
  {
   "cell_type": "markdown",
   "id": "40b19e2f",
   "metadata": {
    "vscode": {
     "languageId": "plaintext"
    }
   },
   "source": [
    "\n",
    "### 11. Fix #3 – Aggregation Pipeline (Advanced)\n",
    "Use Mongo’s `$unionWith` in a raw Motor aggregation when you need server-side filtering/sorting across collections.\n",
    "\n",
    "### 12. Trade-offs & Recommendations\n",
    "| Strategy                    | Pros                                 | Cons                                                  | Best When                              |\n",
    "|-----------------------------|--------------------------------------|-------------------------------------------------------|----------------------------------------|\n",
    "| Single collection           | Polymorphic query is trivial         | Larger documents, discriminator column               | 90 % of CRUD apps                      |\n",
    "| Multi-collection + union    | Separate indexes & TTL per type      | Client merges, extra round-trips                      | Large/heterogeneous subclasses         |\n",
    "| Aggregation `$unionWith`    | Server-side filter/sort/aggregate    | Requires raw pipeline, loses Beanie syntactic sugar   | Complex analytics queries              |\n",
    "\n",
    "### 13. Closing Thoughts\n",
    "“Inheritance” in document databases is a design choice, not a free bonus. Beanie makes either path explicit—choose early to avoid painful migrations later.\n",
    "\n",
    "### 14. Further Reading\n",
    "- Official Beanie guide on inheritance.\n",
    "- Mongo `$unionWith` documentation.\n",
    "- Pydantic v2 roadmap.\n",
    "\n",
    "### 15. Comments / Call to Action\n",
    "Found an error or have an idea? **PRs welcome!**\n"
   ]
  }
 ],
 "metadata": {
  "kernelspec": {
   "display_name": ".venv",
   "language": "python",
   "name": "python3"
  },
  "language_info": {
   "codemirror_mode": {
    "name": "ipython",
    "version": 3
   },
   "file_extension": ".py",
   "mimetype": "text/x-python",
   "name": "python",
   "nbconvert_exporter": "python",
   "pygments_lexer": "ipython3",
   "version": "3.12.6"
  }
 },
 "nbformat": 4,
 "nbformat_minor": 5
}
